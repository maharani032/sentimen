{
  "nbformat": 4,
  "nbformat_minor": 0,
  "metadata": {
    "colab": {
      "provenance": [],
      "mount_file_id": "1jGudvRT2jw24PHJmsAY9PhpeKwPaKU5-",
      "authorship_tag": "ABX9TyPONBjYxkAHs+supvJLTBJj",
      "include_colab_link": true
    },
    "kernelspec": {
      "name": "python3",
      "display_name": "Python 3"
    },
    "language_info": {
      "name": "python"
    }
  },
  "cells": [
    {
      "cell_type": "markdown",
      "metadata": {
        "id": "view-in-github",
        "colab_type": "text"
      },
      "source": [
        "<a href=\"https://colab.research.google.com/github/maharani032/sentimen/blob/main/analisis_sentimen.ipynb\" target=\"_parent\"><img src=\"https://colab.research.google.com/assets/colab-badge.svg\" alt=\"Open In Colab\"/></a>"
      ]
    },
    {
      "cell_type": "code",
      "execution_count": null,
      "metadata": {
        "id": "lX-Rtk34p2dH"
      },
      "outputs": [],
      "source": [
        "!pip install sastrawi\n",
        "!pip install preprocessor"
      ]
    },
    {
      "cell_type": "code",
      "source": [
        "import pandas as pd\n",
        "import preprocessor as p\n",
        "from textblob import TextBlob\n",
        "from nltk.stem import PorterStemmer \n",
        "from nltk.tokenize import word_tokenize\n",
        "import numpy as np\n",
        "import re\n",
        "from sklearn.feature_extraction.text import CountVectorizer,TfidfTransformer\n",
        "from sklearn.model_selection import train_test_split\n",
        "from sklearn.naive_bayes import MultinomialNB\n",
        "from sklearn import metrics\n",
        "from sklearn.neighbors import KNeighborsClassifier\n",
        "from sklearn.metrics import confusion_matrix, classification_report\n",
        "import seaborn as sn\n",
        "from sklearn.model_selection import KFold, cross_val_score\n",
        "from sklearn.metrics import accuracy_score, precision_score, recall_score, f1_score\n"
      ],
      "metadata": {
        "id": "LrDWxfwHqE62"
      },
      "execution_count": 217,
      "outputs": []
    },
    {
      "cell_type": "code",
      "source": [
        "data = pd.read_excel(\"/content/drive/MyDrive/Skripsi/Database baru/Data tweet CHATGPT dan label v2.xlsx\")\n",
        "data.info()"
      ],
      "metadata": {
        "colab": {
          "base_uri": "https://localhost:8080/"
        },
        "id": "00mRtEAsqQPY",
        "outputId": "c3670b64-bbb9-4163-ec04-ed1b5cebf96e"
      },
      "execution_count": 76,
      "outputs": [
        {
          "output_type": "stream",
          "name": "stdout",
          "text": [
            "<class 'pandas.core.frame.DataFrame'>\n",
            "RangeIndex: 1030 entries, 0 to 1029\n",
            "Data columns (total 4 columns):\n",
            " #   Column    Non-Null Count  Dtype \n",
            "---  ------    --------------  ----- \n",
            " 0   date      1030 non-null   object\n",
            " 1   username  1030 non-null   object\n",
            " 2   tweet     1030 non-null   object\n",
            " 3   label     1030 non-null   object\n",
            "dtypes: object(4)\n",
            "memory usage: 32.3+ KB\n"
          ]
        }
      ]
    },
    {
      "cell_type": "code",
      "source": [
        "# remove mention\n",
        "def remove_mention(tweet,pattern_regex):\n",
        "    r=re.findall(pattern_regex,tweet)\n",
        "    for i in r:\n",
        "        tweet=re.sub(i,\"\",tweet)\n",
        "    return tweet"
      ],
      "metadata": {
        "id": "KB9MqDkqq9DJ"
      },
      "execution_count": 77,
      "outputs": []
    },
    {
      "cell_type": "code",
      "source": [
        "data['remove_mention']=np.vectorize(remove_mention)(data['tweet'],\" *RT* | *@[\\w]*\")\n",
        "data.head()"
      ],
      "metadata": {
        "colab": {
          "base_uri": "https://localhost:8080/",
          "height": 337
        },
        "id": "xunogXzxrDvB",
        "outputId": "4701c5a1-6f4b-449f-b0bd-9bd83e213aa5"
      },
      "execution_count": 78,
      "outputs": [
        {
          "output_type": "execute_result",
          "data": {
            "text/plain": [
              "                  date     username  \\\n",
              "0  2023-02-09 15:17:56  faridisasii   \n",
              "1  2023-03-16 09:33:49     ryenapha   \n",
              "2  2023-03-16 09:12:04    ShiHuangg   \n",
              "3  2023-03-16 09:11:27  akuuu_nindy   \n",
              "4  2023-03-16 09:10:11    ShiHuangg   \n",
              "\n",
              "                                               tweet    label  \\\n",
              "0          @gilraldy pembimbing gua chatgpt sekarang   netral   \n",
              "1             Turnitin udah bisa ngecek chatgpt ðŸ˜­   netral   \n",
              "2  Untung aja matkul matkul lain masih bisa ngerj...  positif   \n",
              "3  Hampir gila, tapi untung ada chatGPT. terimaka...  positif   \n",
              "4  Sama kalo bisa bangun rumah dari sekarang, ana...   netral   \n",
              "\n",
              "                                      remove_mention  \n",
              "0                    pembimbing gua chatgpt sekarang  \n",
              "1             Turnitin udah bisa ngecek chatgpt ðŸ˜­  \n",
              "2  Untung aja matkul matkul lain masih bisa ngerj...  \n",
              "3  Hampir gila, tapi untung ada chatGPT. terimaka...  \n",
              "4  Sama kalo bisa bangun rumah dari sekarang, ana...  "
            ],
            "text/html": [
              "\n",
              "  <div id=\"df-576ce520-de6b-43e3-9b58-83dde24c26f3\">\n",
              "    <div class=\"colab-df-container\">\n",
              "      <div>\n",
              "<style scoped>\n",
              "    .dataframe tbody tr th:only-of-type {\n",
              "        vertical-align: middle;\n",
              "    }\n",
              "\n",
              "    .dataframe tbody tr th {\n",
              "        vertical-align: top;\n",
              "    }\n",
              "\n",
              "    .dataframe thead th {\n",
              "        text-align: right;\n",
              "    }\n",
              "</style>\n",
              "<table border=\"1\" class=\"dataframe\">\n",
              "  <thead>\n",
              "    <tr style=\"text-align: right;\">\n",
              "      <th></th>\n",
              "      <th>date</th>\n",
              "      <th>username</th>\n",
              "      <th>tweet</th>\n",
              "      <th>label</th>\n",
              "      <th>remove_mention</th>\n",
              "    </tr>\n",
              "  </thead>\n",
              "  <tbody>\n",
              "    <tr>\n",
              "      <th>0</th>\n",
              "      <td>2023-02-09 15:17:56</td>\n",
              "      <td>faridisasii</td>\n",
              "      <td>@gilraldy pembimbing gua chatgpt sekarang</td>\n",
              "      <td>netral</td>\n",
              "      <td>pembimbing gua chatgpt sekarang</td>\n",
              "    </tr>\n",
              "    <tr>\n",
              "      <th>1</th>\n",
              "      <td>2023-03-16 09:33:49</td>\n",
              "      <td>ryenapha</td>\n",
              "      <td>Turnitin udah bisa ngecek chatgpt ðŸ˜­</td>\n",
              "      <td>netral</td>\n",
              "      <td>Turnitin udah bisa ngecek chatgpt ðŸ˜­</td>\n",
              "    </tr>\n",
              "    <tr>\n",
              "      <th>2</th>\n",
              "      <td>2023-03-16 09:12:04</td>\n",
              "      <td>ShiHuangg</td>\n",
              "      <td>Untung aja matkul matkul lain masih bisa ngerj...</td>\n",
              "      <td>positif</td>\n",
              "      <td>Untung aja matkul matkul lain masih bisa ngerj...</td>\n",
              "    </tr>\n",
              "    <tr>\n",
              "      <th>3</th>\n",
              "      <td>2023-03-16 09:11:27</td>\n",
              "      <td>akuuu_nindy</td>\n",
              "      <td>Hampir gila, tapi untung ada chatGPT. terimaka...</td>\n",
              "      <td>positif</td>\n",
              "      <td>Hampir gila, tapi untung ada chatGPT. terimaka...</td>\n",
              "    </tr>\n",
              "    <tr>\n",
              "      <th>4</th>\n",
              "      <td>2023-03-16 09:10:11</td>\n",
              "      <td>ShiHuangg</td>\n",
              "      <td>Sama kalo bisa bangun rumah dari sekarang, ana...</td>\n",
              "      <td>netral</td>\n",
              "      <td>Sama kalo bisa bangun rumah dari sekarang, ana...</td>\n",
              "    </tr>\n",
              "  </tbody>\n",
              "</table>\n",
              "</div>\n",
              "      <button class=\"colab-df-convert\" onclick=\"convertToInteractive('df-576ce520-de6b-43e3-9b58-83dde24c26f3')\"\n",
              "              title=\"Convert this dataframe to an interactive table.\"\n",
              "              style=\"display:none;\">\n",
              "        \n",
              "  <svg xmlns=\"http://www.w3.org/2000/svg\" height=\"24px\"viewBox=\"0 0 24 24\"\n",
              "       width=\"24px\">\n",
              "    <path d=\"M0 0h24v24H0V0z\" fill=\"none\"/>\n",
              "    <path d=\"M18.56 5.44l.94 2.06.94-2.06 2.06-.94-2.06-.94-.94-2.06-.94 2.06-2.06.94zm-11 1L8.5 8.5l.94-2.06 2.06-.94-2.06-.94L8.5 2.5l-.94 2.06-2.06.94zm10 10l.94 2.06.94-2.06 2.06-.94-2.06-.94-.94-2.06-.94 2.06-2.06.94z\"/><path d=\"M17.41 7.96l-1.37-1.37c-.4-.4-.92-.59-1.43-.59-.52 0-1.04.2-1.43.59L10.3 9.45l-7.72 7.72c-.78.78-.78 2.05 0 2.83L4 21.41c.39.39.9.59 1.41.59.51 0 1.02-.2 1.41-.59l7.78-7.78 2.81-2.81c.8-.78.8-2.07 0-2.86zM5.41 20L4 18.59l7.72-7.72 1.47 1.35L5.41 20z\"/>\n",
              "  </svg>\n",
              "      </button>\n",
              "      \n",
              "  <style>\n",
              "    .colab-df-container {\n",
              "      display:flex;\n",
              "      flex-wrap:wrap;\n",
              "      gap: 12px;\n",
              "    }\n",
              "\n",
              "    .colab-df-convert {\n",
              "      background-color: #E8F0FE;\n",
              "      border: none;\n",
              "      border-radius: 50%;\n",
              "      cursor: pointer;\n",
              "      display: none;\n",
              "      fill: #1967D2;\n",
              "      height: 32px;\n",
              "      padding: 0 0 0 0;\n",
              "      width: 32px;\n",
              "    }\n",
              "\n",
              "    .colab-df-convert:hover {\n",
              "      background-color: #E2EBFA;\n",
              "      box-shadow: 0px 1px 2px rgba(60, 64, 67, 0.3), 0px 1px 3px 1px rgba(60, 64, 67, 0.15);\n",
              "      fill: #174EA6;\n",
              "    }\n",
              "\n",
              "    [theme=dark] .colab-df-convert {\n",
              "      background-color: #3B4455;\n",
              "      fill: #D2E3FC;\n",
              "    }\n",
              "\n",
              "    [theme=dark] .colab-df-convert:hover {\n",
              "      background-color: #434B5C;\n",
              "      box-shadow: 0px 1px 3px 1px rgba(0, 0, 0, 0.15);\n",
              "      filter: drop-shadow(0px 1px 2px rgba(0, 0, 0, 0.3));\n",
              "      fill: #FFFFFF;\n",
              "    }\n",
              "  </style>\n",
              "\n",
              "      <script>\n",
              "        const buttonEl =\n",
              "          document.querySelector('#df-576ce520-de6b-43e3-9b58-83dde24c26f3 button.colab-df-convert');\n",
              "        buttonEl.style.display =\n",
              "          google.colab.kernel.accessAllowed ? 'block' : 'none';\n",
              "\n",
              "        async function convertToInteractive(key) {\n",
              "          const element = document.querySelector('#df-576ce520-de6b-43e3-9b58-83dde24c26f3');\n",
              "          const dataTable =\n",
              "            await google.colab.kernel.invokeFunction('convertToInteractive',\n",
              "                                                     [key], {});\n",
              "          if (!dataTable) return;\n",
              "\n",
              "          const docLinkHtml = 'Like what you see? Visit the ' +\n",
              "            '<a target=\"_blank\" href=https://colab.research.google.com/notebooks/data_table.ipynb>data table notebook</a>'\n",
              "            + ' to learn more about interactive tables.';\n",
              "          element.innerHTML = '';\n",
              "          dataTable['output_type'] = 'display_data';\n",
              "          await google.colab.output.renderOutput(dataTable, element);\n",
              "          const docLink = document.createElement('div');\n",
              "          docLink.innerHTML = docLinkHtml;\n",
              "          element.appendChild(docLink);\n",
              "        }\n",
              "      </script>\n",
              "    </div>\n",
              "  </div>\n",
              "  "
            ]
          },
          "metadata": {},
          "execution_count": 78
        }
      ]
    },
    {
      "cell_type": "code",
      "source": [
        "def remove_http(tweet):\n",
        "    tweet=\" \".join(re.sub(\"(@[A-Za-z0-9]+)|([^0-9A-Za-z \\t])|(\\w+:\\/\\/\\S+)\",\" \",tweet).split())\n",
        "    return tweet\n",
        "data['remove_http']=data['remove_mention'].apply(lambda x:remove_http(x))\n",
        "data.head(5)"
      ],
      "metadata": {
        "colab": {
          "base_uri": "https://localhost:8080/",
          "height": 337
        },
        "id": "WvQtTX9qrD72",
        "outputId": "6e3da04b-6365-4b1e-a352-6a7b669ff28a"
      },
      "execution_count": 81,
      "outputs": [
        {
          "output_type": "execute_result",
          "data": {
            "text/plain": [
              "                  date     username  \\\n",
              "0  2023-02-09 15:17:56  faridisasii   \n",
              "1  2023-03-16 09:33:49     ryenapha   \n",
              "2  2023-03-16 09:12:04    ShiHuangg   \n",
              "3  2023-03-16 09:11:27  akuuu_nindy   \n",
              "4  2023-03-16 09:10:11    ShiHuangg   \n",
              "\n",
              "                                               tweet    label  \\\n",
              "0          @gilraldy pembimbing gua chatgpt sekarang   netral   \n",
              "1             Turnitin udah bisa ngecek chatgpt ðŸ˜­   netral   \n",
              "2  Untung aja matkul matkul lain masih bisa ngerj...  positif   \n",
              "3  Hampir gila, tapi untung ada chatGPT. terimaka...  positif   \n",
              "4  Sama kalo bisa bangun rumah dari sekarang, ana...   netral   \n",
              "\n",
              "                                      remove_mention  \\\n",
              "0                    pembimbing gua chatgpt sekarang   \n",
              "1             Turnitin udah bisa ngecek chatgpt ðŸ˜­   \n",
              "2  Untung aja matkul matkul lain masih bisa ngerj...   \n",
              "3  Hampir gila, tapi untung ada chatGPT. terimaka...   \n",
              "4  Sama kalo bisa bangun rumah dari sekarang, ana...   \n",
              "\n",
              "                                         remove_http  \n",
              "0                    pembimbing gua chatgpt sekarang  \n",
              "1                  Turnitin udah bisa ngecek chatgpt  \n",
              "2  Untung aja matkul matkul lain masih bisa ngerj...  \n",
              "3  Hampir gila tapi untung ada chatGPT terimakasi...  \n",
              "4  Sama kalo bisa bangun rumah dari sekarang anak...  "
            ],
            "text/html": [
              "\n",
              "  <div id=\"df-eb4869b9-adff-4fd6-837e-e1cfe917eeca\">\n",
              "    <div class=\"colab-df-container\">\n",
              "      <div>\n",
              "<style scoped>\n",
              "    .dataframe tbody tr th:only-of-type {\n",
              "        vertical-align: middle;\n",
              "    }\n",
              "\n",
              "    .dataframe tbody tr th {\n",
              "        vertical-align: top;\n",
              "    }\n",
              "\n",
              "    .dataframe thead th {\n",
              "        text-align: right;\n",
              "    }\n",
              "</style>\n",
              "<table border=\"1\" class=\"dataframe\">\n",
              "  <thead>\n",
              "    <tr style=\"text-align: right;\">\n",
              "      <th></th>\n",
              "      <th>date</th>\n",
              "      <th>username</th>\n",
              "      <th>tweet</th>\n",
              "      <th>label</th>\n",
              "      <th>remove_mention</th>\n",
              "      <th>remove_http</th>\n",
              "    </tr>\n",
              "  </thead>\n",
              "  <tbody>\n",
              "    <tr>\n",
              "      <th>0</th>\n",
              "      <td>2023-02-09 15:17:56</td>\n",
              "      <td>faridisasii</td>\n",
              "      <td>@gilraldy pembimbing gua chatgpt sekarang</td>\n",
              "      <td>netral</td>\n",
              "      <td>pembimbing gua chatgpt sekarang</td>\n",
              "      <td>pembimbing gua chatgpt sekarang</td>\n",
              "    </tr>\n",
              "    <tr>\n",
              "      <th>1</th>\n",
              "      <td>2023-03-16 09:33:49</td>\n",
              "      <td>ryenapha</td>\n",
              "      <td>Turnitin udah bisa ngecek chatgpt ðŸ˜­</td>\n",
              "      <td>netral</td>\n",
              "      <td>Turnitin udah bisa ngecek chatgpt ðŸ˜­</td>\n",
              "      <td>Turnitin udah bisa ngecek chatgpt</td>\n",
              "    </tr>\n",
              "    <tr>\n",
              "      <th>2</th>\n",
              "      <td>2023-03-16 09:12:04</td>\n",
              "      <td>ShiHuangg</td>\n",
              "      <td>Untung aja matkul matkul lain masih bisa ngerj...</td>\n",
              "      <td>positif</td>\n",
              "      <td>Untung aja matkul matkul lain masih bisa ngerj...</td>\n",
              "      <td>Untung aja matkul matkul lain masih bisa ngerj...</td>\n",
              "    </tr>\n",
              "    <tr>\n",
              "      <th>3</th>\n",
              "      <td>2023-03-16 09:11:27</td>\n",
              "      <td>akuuu_nindy</td>\n",
              "      <td>Hampir gila, tapi untung ada chatGPT. terimaka...</td>\n",
              "      <td>positif</td>\n",
              "      <td>Hampir gila, tapi untung ada chatGPT. terimaka...</td>\n",
              "      <td>Hampir gila tapi untung ada chatGPT terimakasi...</td>\n",
              "    </tr>\n",
              "    <tr>\n",
              "      <th>4</th>\n",
              "      <td>2023-03-16 09:10:11</td>\n",
              "      <td>ShiHuangg</td>\n",
              "      <td>Sama kalo bisa bangun rumah dari sekarang, ana...</td>\n",
              "      <td>netral</td>\n",
              "      <td>Sama kalo bisa bangun rumah dari sekarang, ana...</td>\n",
              "      <td>Sama kalo bisa bangun rumah dari sekarang anak...</td>\n",
              "    </tr>\n",
              "  </tbody>\n",
              "</table>\n",
              "</div>\n",
              "      <button class=\"colab-df-convert\" onclick=\"convertToInteractive('df-eb4869b9-adff-4fd6-837e-e1cfe917eeca')\"\n",
              "              title=\"Convert this dataframe to an interactive table.\"\n",
              "              style=\"display:none;\">\n",
              "        \n",
              "  <svg xmlns=\"http://www.w3.org/2000/svg\" height=\"24px\"viewBox=\"0 0 24 24\"\n",
              "       width=\"24px\">\n",
              "    <path d=\"M0 0h24v24H0V0z\" fill=\"none\"/>\n",
              "    <path d=\"M18.56 5.44l.94 2.06.94-2.06 2.06-.94-2.06-.94-.94-2.06-.94 2.06-2.06.94zm-11 1L8.5 8.5l.94-2.06 2.06-.94-2.06-.94L8.5 2.5l-.94 2.06-2.06.94zm10 10l.94 2.06.94-2.06 2.06-.94-2.06-.94-.94-2.06-.94 2.06-2.06.94z\"/><path d=\"M17.41 7.96l-1.37-1.37c-.4-.4-.92-.59-1.43-.59-.52 0-1.04.2-1.43.59L10.3 9.45l-7.72 7.72c-.78.78-.78 2.05 0 2.83L4 21.41c.39.39.9.59 1.41.59.51 0 1.02-.2 1.41-.59l7.78-7.78 2.81-2.81c.8-.78.8-2.07 0-2.86zM5.41 20L4 18.59l7.72-7.72 1.47 1.35L5.41 20z\"/>\n",
              "  </svg>\n",
              "      </button>\n",
              "      \n",
              "  <style>\n",
              "    .colab-df-container {\n",
              "      display:flex;\n",
              "      flex-wrap:wrap;\n",
              "      gap: 12px;\n",
              "    }\n",
              "\n",
              "    .colab-df-convert {\n",
              "      background-color: #E8F0FE;\n",
              "      border: none;\n",
              "      border-radius: 50%;\n",
              "      cursor: pointer;\n",
              "      display: none;\n",
              "      fill: #1967D2;\n",
              "      height: 32px;\n",
              "      padding: 0 0 0 0;\n",
              "      width: 32px;\n",
              "    }\n",
              "\n",
              "    .colab-df-convert:hover {\n",
              "      background-color: #E2EBFA;\n",
              "      box-shadow: 0px 1px 2px rgba(60, 64, 67, 0.3), 0px 1px 3px 1px rgba(60, 64, 67, 0.15);\n",
              "      fill: #174EA6;\n",
              "    }\n",
              "\n",
              "    [theme=dark] .colab-df-convert {\n",
              "      background-color: #3B4455;\n",
              "      fill: #D2E3FC;\n",
              "    }\n",
              "\n",
              "    [theme=dark] .colab-df-convert:hover {\n",
              "      background-color: #434B5C;\n",
              "      box-shadow: 0px 1px 3px 1px rgba(0, 0, 0, 0.15);\n",
              "      filter: drop-shadow(0px 1px 2px rgba(0, 0, 0, 0.3));\n",
              "      fill: #FFFFFF;\n",
              "    }\n",
              "  </style>\n",
              "\n",
              "      <script>\n",
              "        const buttonEl =\n",
              "          document.querySelector('#df-eb4869b9-adff-4fd6-837e-e1cfe917eeca button.colab-df-convert');\n",
              "        buttonEl.style.display =\n",
              "          google.colab.kernel.accessAllowed ? 'block' : 'none';\n",
              "\n",
              "        async function convertToInteractive(key) {\n",
              "          const element = document.querySelector('#df-eb4869b9-adff-4fd6-837e-e1cfe917eeca');\n",
              "          const dataTable =\n",
              "            await google.colab.kernel.invokeFunction('convertToInteractive',\n",
              "                                                     [key], {});\n",
              "          if (!dataTable) return;\n",
              "\n",
              "          const docLinkHtml = 'Like what you see? Visit the ' +\n",
              "            '<a target=\"_blank\" href=https://colab.research.google.com/notebooks/data_table.ipynb>data table notebook</a>'\n",
              "            + ' to learn more about interactive tables.';\n",
              "          element.innerHTML = '';\n",
              "          dataTable['output_type'] = 'display_data';\n",
              "          await google.colab.output.renderOutput(dataTable, element);\n",
              "          const docLink = document.createElement('div');\n",
              "          docLink.innerHTML = docLinkHtml;\n",
              "          element.appendChild(docLink);\n",
              "        }\n",
              "      </script>\n",
              "    </div>\n",
              "  </div>\n",
              "  "
            ]
          },
          "metadata": {},
          "execution_count": 81
        }
      ]
    },
    {
      "cell_type": "code",
      "source": [
        "def removeHastag(tweet):\n",
        "#     hastag dolar sign\n",
        "    tweet=re.sub(r'\\$\\w*','',tweet)\n",
        "#     retweet lama\n",
        "    tweet=re.sub(r'^RT[\\s]+','',tweet)\n",
        "#     hastag\n",
        "    tweet=re.sub(r'#', '',tweet)\n",
        "#     hapus angka\n",
        "    tweet=re.sub('[0-9]+','',tweet)\n",
        "    return tweet"
      ],
      "metadata": {
        "id": "_UK6_YbQrEFl"
      },
      "execution_count": 82,
      "outputs": []
    },
    {
      "cell_type": "code",
      "source": [
        "data['remove_hastag']=data['remove_http'].apply(lambda x:removeHastag(x))\n",
        "data.head(5)"
      ],
      "metadata": {
        "id": "N2OE0NLrrERB"
      },
      "execution_count": null,
      "outputs": []
    },
    {
      "cell_type": "code",
      "source": [
        "data.drop_duplicates(subset='remove_hastag',keep='first',inplace=True)\n",
        "data.head(5)\n",
        "data.info()"
      ],
      "metadata": {
        "colab": {
          "base_uri": "https://localhost:8080/"
        },
        "id": "Do2ZwIW8rcS_",
        "outputId": "702442d5-5d6c-4a2e-e870-eea954dbcf06"
      },
      "execution_count": 84,
      "outputs": [
        {
          "output_type": "stream",
          "name": "stdout",
          "text": [
            "<class 'pandas.core.frame.DataFrame'>\n",
            "Int64Index: 1024 entries, 0 to 1029\n",
            "Data columns (total 7 columns):\n",
            " #   Column          Non-Null Count  Dtype \n",
            "---  ------          --------------  ----- \n",
            " 0   date            1024 non-null   object\n",
            " 1   username        1024 non-null   object\n",
            " 2   tweet           1024 non-null   object\n",
            " 3   label           1024 non-null   object\n",
            " 4   remove_mention  1024 non-null   object\n",
            " 5   remove_http     1024 non-null   object\n",
            " 6   remove_hastag   1024 non-null   object\n",
            "dtypes: object(7)\n",
            "memory usage: 64.0+ KB\n"
          ]
        }
      ]
    },
    {
      "cell_type": "code",
      "source": [
        "def case_folding(tweet):\n",
        "    return tweet.casefold()\n",
        "data['case_folding']=data['remove_hastag'].apply(lambda x:case_folding(x))\n",
        "data.head(5)"
      ],
      "metadata": {
        "id": "N6TOoI1grcWL"
      },
      "execution_count": null,
      "outputs": []
    },
    {
      "cell_type": "code",
      "source": [
        "import nltk\n",
        "nltk.download('stopwords')\n",
        "\n",
        "from nltk.corpus import stopwords\n",
        "stopwords_indonesia=stopwords.words('indonesian')"
      ],
      "metadata": {
        "colab": {
          "base_uri": "https://localhost:8080/"
        },
        "id": "twSY5RYercZU",
        "outputId": "c31e7ebd-f475-4b78-e98c-c57cf4d5558c"
      },
      "execution_count": 86,
      "outputs": [
        {
          "output_type": "stream",
          "name": "stderr",
          "text": [
            "[nltk_data] Downloading package stopwords to /root/nltk_data...\n",
            "[nltk_data]   Unzipping corpora/stopwords.zip.\n"
          ]
        }
      ]
    },
    {
      "cell_type": "code",
      "source": [
        "from Sastrawi.StopWordRemover.StopWordRemoverFactory import StopWordRemoverFactory,StopWordRemover,ArrayDictionary\n",
        "stop_factory = StopWordRemoverFactory().get_stop_words()\n",
        "stopwords_indonesia=stopwords.words('indonesian')"
      ],
      "metadata": {
        "id": "7MQDUjGcrccP"
      },
      "execution_count": 88,
      "outputs": []
    },
    {
      "cell_type": "code",
      "source": [
        "more_stopword = [\n",
        "    'yg','dgn','kan','huh','bruh','xd','xf','hahaha','nya','wkwkwkkwkwk','akwkaskaksawska','wkwkw','wkwkkwwkk'\n",
        "    'kok','kyk','dong','donk','yah','tuh','si','siii','wkwk','wkwkwk','ini','tp','utk','sj','pd','gw','gua','gwe',\n",
        "    'wow','wowwwwwah','icymi','ni','coy','coii','isenkisenk','dg','pdhl','aja','tadi','krn','tak',\n",
        "    'aja','sbb','kuy','se','skrg','yep','aja','as','yaa','jadinya','aja','coba','tibatiba','shit','knp','jdi','dmn','kyk'\n",
        "    'sih','bang','oke','nah','bgt','km','ttg','dlm','aaa','kang','hehe','wes','you','doang','wkkw','ong','sm','he','yeee'\n",
        "    ,'emg','kak','gan','woy','dm','hi','kakk','min','di','noh','gais','lah','xfxf','nak','bro','x','ahhh','gasss','hmmm','sat','set','yukkkkk'\n",
        "    ,'smh','eh','ni','laaah',' aihihi','fafifu','akwkaskaksawska ','xixi','kah','tbtb','bg','jg','pas','w','jga','cm','hiks','mennn','sii','sy','aku',\n",
        "    ]"
      ],
      "metadata": {
        "id": "t5wqaajQrcfh"
      },
      "execution_count": 155,
      "outputs": []
    },
    {
      "cell_type": "code",
      "source": [
        "stopword=stop_factory+more_stopword+stopwords_indonesia\n",
        "dictionary=ArrayDictionary(stopword)\n",
        "str=StopWordRemover(dictionary)\n",
        "print(stopword)"
      ],
      "metadata": {
        "colab": {
          "base_uri": "https://localhost:8080/"
        },
        "id": "fIp9dWORsTom",
        "outputId": "6a24a0e9-d701-4d57-be8a-574684c53b2d"
      },
      "execution_count": 156,
      "outputs": [
        {
          "output_type": "stream",
          "name": "stdout",
          "text": [
            "['yang', 'untuk', 'pada', 'ke', 'para', 'namun', 'menurut', 'antara', 'dia', 'dua', 'ia', 'seperti', 'jika', 'jika', 'sehingga', 'kembali', 'dan', 'tidak', 'ini', 'karena', 'kepada', 'oleh', 'saat', 'harus', 'sementara', 'setelah', 'belum', 'kami', 'sekitar', 'bagi', 'serta', 'di', 'dari', 'telah', 'sebagai', 'masih', 'hal', 'ketika', 'adalah', 'itu', 'dalam', 'bisa', 'bahwa', 'atau', 'hanya', 'kita', 'dengan', 'akan', 'juga', 'ada', 'mereka', 'sudah', 'saya', 'terhadap', 'secara', 'agar', 'lain', 'anda', 'begitu', 'mengapa', 'kenapa', 'yaitu', 'yakni', 'daripada', 'itulah', 'lagi', 'maka', 'tentang', 'demi', 'dimana', 'kemana', 'pula', 'sambil', 'sebelum', 'sesudah', 'supaya', 'guna', 'kah', 'pun', 'sampai', 'sedangkan', 'selagi', 'sementara', 'tetapi', 'apakah', 'kecuali', 'sebab', 'selain', 'seolah', 'seraya', 'seterusnya', 'tanpa', 'agak', 'boleh', 'dapat', 'dsb', 'dst', 'dll', 'dahulu', 'dulunya', 'anu', 'demikian', 'tapi', 'ingin', 'juga', 'nggak', 'mari', 'nanti', 'melainkan', 'oh', 'ok', 'seharusnya', 'sebetulnya', 'setiap', 'setidaknya', 'sesuatu', 'pasti', 'saja', 'toh', 'ya', 'walau', 'tolong', 'tentu', 'amat', 'apalagi', 'bagaimanapun', 'yg', 'dgn', 'kan', 'huh', 'bruh', 'xd', 'xf', 'hahaha', 'nya', 'wkwkwkkwkwk', 'akwkaskaksawska', 'wkwkw', 'wkwkkwwkkkok', 'kyk', 'dong', 'donk', 'yah', 'tuh', 'si', 'siii', 'wkwk', 'wkwkwk', 'ini', 'tp', 'utk', 'sj', 'pd', 'gw', 'gua', 'gwe', 'wow', 'wowwwwwah', 'icymi', 'ni', 'coy', 'coii', 'isenkisenk', 'dg', 'pdhl', 'aja', 'tadi', 'krn', 'tak', 'aja', 'sbb', 'kuy', 'se', 'skrg', 'yep', 'aja', 'as', 'yaa', 'jadinya', 'aja', 'coba', 'tibatiba', 'shit', 'knp', 'jdi', 'dmn', 'kyksih', 'bang', 'oke', 'nah', 'bgt', 'km', 'ttg', 'dlm', 'aaa', 'kang', 'hehe', 'wes', 'you', 'doang', 'wkkw', 'ong', 'sm', 'he', 'yeee', 'emg', 'kak', 'gan', 'woy', 'dm', 'hi', 'kakk', 'min', 'di', 'noh', 'gais', 'lah', 'xfxf', 'nak', 'bro', 'x', 'ahhh', 'gasss', 'hmmm', 'sat', 'set', 'yukkkkk', 'smh', 'eh', 'ni', 'laaah', ' aihihi', 'fafifu', 'akwkaskaksawska ', 'xixi', 'kah', 'tbtb', 'bg', 'jg', 'pas', 'w', 'jga', 'cm', 'hiks', 'ada', 'adalah', 'adanya', 'adapun', 'agak', 'agaknya', 'agar', 'akan', 'akankah', 'akhir', 'akhiri', 'akhirnya', 'aku', 'akulah', 'amat', 'amatlah', 'anda', 'andalah', 'antar', 'antara', 'antaranya', 'apa', 'apaan', 'apabila', 'apakah', 'apalagi', 'apatah', 'artinya', 'asal', 'asalkan', 'atas', 'atau', 'ataukah', 'ataupun', 'awal', 'awalnya', 'bagai', 'bagaikan', 'bagaimana', 'bagaimanakah', 'bagaimanapun', 'bagi', 'bagian', 'bahkan', 'bahwa', 'bahwasanya', 'baik', 'bakal', 'bakalan', 'balik', 'banyak', 'bapak', 'baru', 'bawah', 'beberapa', 'begini', 'beginian', 'beginikah', 'beginilah', 'begitu', 'begitukah', 'begitulah', 'begitupun', 'bekerja', 'belakang', 'belakangan', 'belum', 'belumlah', 'benar', 'benarkah', 'benarlah', 'berada', 'berakhir', 'berakhirlah', 'berakhirnya', 'berapa', 'berapakah', 'berapalah', 'berapapun', 'berarti', 'berawal', 'berbagai', 'berdatangan', 'beri', 'berikan', 'berikut', 'berikutnya', 'berjumlah', 'berkali-kali', 'berkata', 'berkehendak', 'berkeinginan', 'berkenaan', 'berlainan', 'berlalu', 'berlangsung', 'berlebihan', 'bermacam', 'bermacam-macam', 'bermaksud', 'bermula', 'bersama', 'bersama-sama', 'bersiap', 'bersiap-siap', 'bertanya', 'bertanya-tanya', 'berturut', 'berturut-turut', 'bertutur', 'berujar', 'berupa', 'besar', 'betul', 'betulkah', 'biasa', 'biasanya', 'bila', 'bilakah', 'bisa', 'bisakah', 'boleh', 'bolehkah', 'bolehlah', 'buat', 'bukan', 'bukankah', 'bukanlah', 'bukannya', 'bulan', 'bung', 'cara', 'caranya', 'cukup', 'cukupkah', 'cukuplah', 'cuma', 'dahulu', 'dalam', 'dan', 'dapat', 'dari', 'daripada', 'datang', 'dekat', 'demi', 'demikian', 'demikianlah', 'dengan', 'depan', 'di', 'dia', 'diakhiri', 'diakhirinya', 'dialah', 'diantara', 'diantaranya', 'diberi', 'diberikan', 'diberikannya', 'dibuat', 'dibuatnya', 'didapat', 'didatangkan', 'digunakan', 'diibaratkan', 'diibaratkannya', 'diingat', 'diingatkan', 'diinginkan', 'dijawab', 'dijelaskan', 'dijelaskannya', 'dikarenakan', 'dikatakan', 'dikatakannya', 'dikerjakan', 'diketahui', 'diketahuinya', 'dikira', 'dilakukan', 'dilalui', 'dilihat', 'dimaksud', 'dimaksudkan', 'dimaksudkannya', 'dimaksudnya', 'diminta', 'dimintai', 'dimisalkan', 'dimulai', 'dimulailah', 'dimulainya', 'dimungkinkan', 'dini', 'dipastikan', 'diperbuat', 'diperbuatnya', 'dipergunakan', 'diperkirakan', 'diperlihatkan', 'diperlukan', 'diperlukannya', 'dipersoalkan', 'dipertanyakan', 'dipunyai', 'diri', 'dirinya', 'disampaikan', 'disebut', 'disebutkan', 'disebutkannya', 'disini', 'disinilah', 'ditambahkan', 'ditandaskan', 'ditanya', 'ditanyai', 'ditanyakan', 'ditegaskan', 'ditujukan', 'ditunjuk', 'ditunjuki', 'ditunjukkan', 'ditunjukkannya', 'ditunjuknya', 'dituturkan', 'dituturkannya', 'diucapkan', 'diucapkannya', 'diungkapkan', 'dong', 'dua', 'dulu', 'empat', 'enggak', 'enggaknya', 'entah', 'entahlah', 'guna', 'gunakan', 'hal', 'hampir', 'hanya', 'hanyalah', 'hari', 'harus', 'haruslah', 'harusnya', 'hendak', 'hendaklah', 'hendaknya', 'hingga', 'ia', 'ialah', 'ibarat', 'ibaratkan', 'ibaratnya', 'ibu', 'ikut', 'ingat', 'ingat-ingat', 'ingin', 'inginkah', 'inginkan', 'ini', 'inikah', 'inilah', 'itu', 'itukah', 'itulah', 'jadi', 'jadilah', 'jadinya', 'jangan', 'jangankan', 'janganlah', 'jauh', 'jawab', 'jawaban', 'jawabnya', 'jelas', 'jelaskan', 'jelaslah', 'jelasnya', 'jika', 'jikalau', 'juga', 'jumlah', 'jumlahnya', 'justru', 'kala', 'kalau', 'kalaulah', 'kalaupun', 'kalian', 'kami', 'kamilah', 'kamu', 'kamulah', 'kan', 'kapan', 'kapankah', 'kapanpun', 'karena', 'karenanya', 'kasus', 'kata', 'katakan', 'katakanlah', 'katanya', 'ke', 'keadaan', 'kebetulan', 'kecil', 'kedua', 'keduanya', 'keinginan', 'kelamaan', 'kelihatan', 'kelihatannya', 'kelima', 'keluar', 'kembali', 'kemudian', 'kemungkinan', 'kemungkinannya', 'kenapa', 'kepada', 'kepadanya', 'kesampaian', 'keseluruhan', 'keseluruhannya', 'keterlaluan', 'ketika', 'khususnya', 'kini', 'kinilah', 'kira', 'kira-kira', 'kiranya', 'kita', 'kitalah', 'kok', 'kurang', 'lagi', 'lagian', 'lah', 'lain', 'lainnya', 'lalu', 'lama', 'lamanya', 'lanjut', 'lanjutnya', 'lebih', 'lewat', 'lima', 'luar', 'macam', 'maka', 'makanya', 'makin', 'malah', 'malahan', 'mampu', 'mampukah', 'mana', 'manakala', 'manalagi', 'masa', 'masalah', 'masalahnya', 'masih', 'masihkah', 'masing', 'masing-masing', 'mau', 'maupun', 'melainkan', 'melakukan', 'melalui', 'melihat', 'melihatnya', 'memang', 'memastikan', 'memberi', 'memberikan', 'membuat', 'memerlukan', 'memihak', 'meminta', 'memintakan', 'memisalkan', 'memperbuat', 'mempergunakan', 'memperkirakan', 'memperlihatkan', 'mempersiapkan', 'mempersoalkan', 'mempertanyakan', 'mempunyai', 'memulai', 'memungkinkan', 'menaiki', 'menambahkan', 'menandaskan', 'menanti', 'menanti-nanti', 'menantikan', 'menanya', 'menanyai', 'menanyakan', 'mendapat', 'mendapatkan', 'mendatang', 'mendatangi', 'mendatangkan', 'menegaskan', 'mengakhiri', 'mengapa', 'mengatakan', 'mengatakannya', 'mengenai', 'mengerjakan', 'mengetahui', 'menggunakan', 'menghendaki', 'mengibaratkan', 'mengibaratkannya', 'mengingat', 'mengingatkan', 'menginginkan', 'mengira', 'mengucapkan', 'mengucapkannya', 'mengungkapkan', 'menjadi', 'menjawab', 'menjelaskan', 'menuju', 'menunjuk', 'menunjuki', 'menunjukkan', 'menunjuknya', 'menurut', 'menuturkan', 'menyampaikan', 'menyangkut', 'menyatakan', 'menyebutkan', 'menyeluruh', 'menyiapkan', 'merasa', 'mereka', 'merekalah', 'merupakan', 'meski', 'meskipun', 'meyakini', 'meyakinkan', 'minta', 'mirip', 'misal', 'misalkan', 'misalnya', 'mula', 'mulai', 'mulailah', 'mulanya', 'mungkin', 'mungkinkah', 'nah', 'naik', 'namun', 'nanti', 'nantinya', 'nyaris', 'nyatanya', 'oleh', 'olehnya', 'pada', 'padahal', 'padanya', 'pak', 'paling', 'panjang', 'pantas', 'para', 'pasti', 'pastilah', 'penting', 'pentingnya', 'per', 'percuma', 'perlu', 'perlukah', 'perlunya', 'pernah', 'persoalan', 'pertama', 'pertama-tama', 'pertanyaan', 'pertanyakan', 'pihak', 'pihaknya', 'pukul', 'pula', 'pun', 'punya', 'rasa', 'rasanya', 'rata', 'rupanya', 'saat', 'saatnya', 'saja', 'sajalah', 'saling', 'sama', 'sama-sama', 'sambil', 'sampai', 'sampai-sampai', 'sampaikan', 'sana', 'sangat', 'sangatlah', 'satu', 'saya', 'sayalah', 'se', 'sebab', 'sebabnya', 'sebagai', 'sebagaimana', 'sebagainya', 'sebagian', 'sebaik', 'sebaik-baiknya', 'sebaiknya', 'sebaliknya', 'sebanyak', 'sebegini', 'sebegitu', 'sebelum', 'sebelumnya', 'sebenarnya', 'seberapa', 'sebesar', 'sebetulnya', 'sebisanya', 'sebuah', 'sebut', 'sebutlah', 'sebutnya', 'secara', 'secukupnya', 'sedang', 'sedangkan', 'sedemikian', 'sedikit', 'sedikitnya', 'seenaknya', 'segala', 'segalanya', 'segera', 'seharusnya', 'sehingga', 'seingat', 'sejak', 'sejauh', 'sejenak', 'sejumlah', 'sekadar', 'sekadarnya', 'sekali', 'sekali-kali', 'sekalian', 'sekaligus', 'sekalipun', 'sekarang', 'sekarang', 'sekecil', 'seketika', 'sekiranya', 'sekitar', 'sekitarnya', 'sekurang-kurangnya', 'sekurangnya', 'sela', 'selain', 'selaku', 'selalu', 'selama', 'selama-lamanya', 'selamanya', 'selanjutnya', 'seluruh', 'seluruhnya', 'semacam', 'semakin', 'semampu', 'semampunya', 'semasa', 'semasih', 'semata', 'semata-mata', 'semaunya', 'sementara', 'semisal', 'semisalnya', 'sempat', 'semua', 'semuanya', 'semula', 'sendiri', 'sendirian', 'sendirinya', 'seolah', 'seolah-olah', 'seorang', 'sepanjang', 'sepantasnya', 'sepantasnyalah', 'seperlunya', 'seperti', 'sepertinya', 'sepihak', 'sering', 'seringnya', 'serta', 'serupa', 'sesaat', 'sesama', 'sesampai', 'sesegera', 'sesekali', 'seseorang', 'sesuatu', 'sesuatunya', 'sesudah', 'sesudahnya', 'setelah', 'setempat', 'setengah', 'seterusnya', 'setiap', 'setiba', 'setibanya', 'setidak-tidaknya', 'setidaknya', 'setinggi', 'seusai', 'sewaktu', 'siap', 'siapa', 'siapakah', 'siapapun', 'sini', 'sinilah', 'soal', 'soalnya', 'suatu', 'sudah', 'sudahkah', 'sudahlah', 'supaya', 'tadi', 'tadinya', 'tahu', 'tahun', 'tak', 'tambah', 'tambahnya', 'tampak', 'tampaknya', 'tandas', 'tandasnya', 'tanpa', 'tanya', 'tanyakan', 'tanyanya', 'tapi', 'tegas', 'tegasnya', 'telah', 'tempat', 'tengah', 'tentang', 'tentu', 'tentulah', 'tentunya', 'tepat', 'terakhir', 'terasa', 'terbanyak', 'terdahulu', 'terdapat', 'terdiri', 'terhadap', 'terhadapnya', 'teringat', 'teringat-ingat', 'terjadi', 'terjadilah', 'terjadinya', 'terkira', 'terlalu', 'terlebih', 'terlihat', 'termasuk', 'ternyata', 'tersampaikan', 'tersebut', 'tersebutlah', 'tertentu', 'tertuju', 'terus', 'terutama', 'tetap', 'tetapi', 'tiap', 'tiba', 'tiba-tiba', 'tidak', 'tidakkah', 'tidaklah', 'tiga', 'tinggi', 'toh', 'tunjuk', 'turut', 'tutur', 'tuturnya', 'ucap', 'ucapnya', 'ujar', 'ujarnya', 'umum', 'umumnya', 'ungkap', 'ungkapnya', 'untuk', 'usah', 'usai', 'waduh', 'wah', 'wahai', 'waktu', 'waktunya', 'walau', 'walaupun', 'wong', 'yaitu', 'yakin', 'yakni', 'yang']\n"
          ]
        }
      ]
    },
    {
      "cell_type": "code",
      "source": [
        "# import sastrawi\n",
        "from Sastrawi.Stemmer.StemmerFactory import StemmerFactory\n",
        "# import tokenize\n",
        "from nltk.tokenize import TweetTokenizer"
      ],
      "metadata": {
        "id": "FFbOxVhHsT38"
      },
      "execution_count": 94,
      "outputs": []
    },
    {
      "cell_type": "code",
      "source": [
        "factory=StemmerFactory()\n",
        "stemmer=factory.create_stemmer()"
      ],
      "metadata": {
        "id": "JgwyZLu6sT7f"
      },
      "execution_count": 96,
      "outputs": []
    },
    {
      "cell_type": "code",
      "source": [
        "def clean_tweets(tweet):\n",
        "#     tokenize tweets\n",
        "    tokenizer=TweetTokenizer(preserve_case=False,strip_handles=True,reduce_len=True)\n",
        "    tweet_token=tokenizer.tokenize(tweet)\n",
        "    \n",
        "    tweet_clean=[]\n",
        "    for word in tweet_token:\n",
        "        if(word not in stopword):\n",
        "            stem_word=stemmer.stem(word)\n",
        "            tweet_clean.append(stem_word)\n",
        "    return tweet_clean"
      ],
      "metadata": {
        "id": "LwhP_SW8sT-e"
      },
      "execution_count": 97,
      "outputs": []
    },
    {
      "cell_type": "code",
      "source": [
        "data['clean_tweet']=data['case_folding'].apply(lambda x:clean_tweets(x))\n",
        "data.head(5)\n",
        "#  filename = '18-04-2023.csv'\n",
        "#     db_tweets.to_csv('/content/drive/MyDrive/Skripsi/Database baru/'+filename, index=False)\n"
      ],
      "metadata": {
        "id": "z6UygUaVsUBE"
      },
      "execution_count": null,
      "outputs": []
    },
    {
      "cell_type": "code",
      "source": [
        "def tweet(tweet):\n",
        "    return \" \".join(tweet)\n",
        "data['clean tweet']=data['clean_tweet'].apply(lambda x:tweet(x))\n",
        "data.head(5)"
      ],
      "metadata": {
        "id": "ovRC5rotvAKG"
      },
      "execution_count": null,
      "outputs": []
    },
    {
      "cell_type": "code",
      "source": [
        "newData=pd.DataFrame()\n",
        "newData['date']=data['date']\n",
        "newData['username']=data['username']\n",
        "newData['tweet']=data['tweet']\n",
        "newData['clean tweet']=data['clean tweet']\n",
        "newData['label']=data['label']\n",
        "filename='processing-lengkap.xlsx'\n",
        "newFilename='preprocessing-sudah.xlsx'\n",
        "data.to_excel('/content/drive/MyDrive/Skripsi/Database baru/'+filename, index=False, encoding='utf-8')\n",
        "newData.to_excel('/content/drive/MyDrive/Skripsi/Database baru/'+newFilename, index=False, encoding='utf-8')"
      ],
      "metadata": {
        "id": "tMBtNJJesUEC"
      },
      "execution_count": null,
      "outputs": []
    },
    {
      "cell_type": "code",
      "source": [
        "# newData= pd.read_excel(\"/content/drive/MyDrive/Skripsi/Database baru/preprocessing-sudah.xlsx\")\n",
        "# newData.info()"
      ],
      "metadata": {
        "id": "9iU_5ouAsUHi"
      },
      "execution_count": null,
      "outputs": []
    },
    {
      "cell_type": "code",
      "source": [
        "#  # hitung term frequency (tf) dari data teks\n",
        "bow_transformer = CountVectorizer().fit(newData['clean tweet'])\n",
        "# np.set_printoptions(threshold=np.inf, linewidth=np.inf)\n",
        "bow_transformer.vocabulary_ #\n"
      ],
      "metadata": {
        "id": "0wN2puy5sUOZ"
      },
      "execution_count": null,
      "outputs": []
    },
    {
      "cell_type": "code",
      "source": [
        "tokens = bow_transformer.get_feature_names_out()\n",
        "# print(tokens) "
      ],
      "metadata": {
        "id": "sDD8hnLBKNBm"
      },
      "execution_count": 110,
      "outputs": []
    },
    {
      "cell_type": "code",
      "source": [
        "text_bow = bow_transformer.transform(newData['clean tweet'])\n",
        "# print(text_bow)"
      ],
      "metadata": {
        "id": "6L7dlIOEzRYT"
      },
      "execution_count": 111,
      "outputs": []
    },
    {
      "cell_type": "code",
      "source": [
        "# # Mendapatkan matriks hasil transformasi\n",
        "# df = pd.DataFrame(text_bow.toarray(), columns=tokens)\n",
        "\n",
        "# # # Menghitung jumlah kemunculan term pada dokumen\n",
        "# jumlah_kemunculan_term = df.sum()\n",
        "\n",
        "# # # Menampilkan hasil\n",
        "# print(jumlah_kemunculan_term.to_string())"
      ],
      "metadata": {
        "id": "SyoMJGzv-rFp"
      },
      "execution_count": null,
      "outputs": []
    },
    {
      "cell_type": "code",
      "source": [
        "# mencari kata dalam data\n",
        "# Mengubah list `terms` menjadi array NumPy\n",
        "terms_array = np.array(tokens)\n",
        "\n",
        "# Mendapatkan index dari term \"bimbing\" dalam array `terms_array`\n",
        "term_index = np.where(terms_array == \"bimbing\")[0][0]\n",
        "\n",
        "# Menghitung df dari term \"bimbing\"\n",
        "df_data = sum([1 for doc in text_bow.toarray() if doc[term_index] > 0])\n",
        "print(\"df dari term 'bimbing' adalah\", df_data)\n",
        "\n",
        "newData.head(4)\n",
        "newData.info()"
      ],
      "metadata": {
        "id": "_ntp2Zcs-hMH"
      },
      "execution_count": null,
      "outputs": []
    },
    {
      "cell_type": "code",
      "source": [
        "tfidf_transformer = TfidfTransformer()\n",
        "tfidf = tfidf_transformer.fit_transform(text_bow)"
      ],
      "metadata": {
        "id": "4eos7xnDWTUa"
      },
      "execution_count": 176,
      "outputs": []
    },
    {
      "cell_type": "code",
      "source": [
        "corpus = newData['clean tweet'].tolist()\n",
        "\n",
        "for doc_index in range(1): #len(corpus)\n",
        "    print(\"TF-IDF dari dokumen ke-\", doc_index+1)\n",
        "    feature_index = tfidf[doc_index,:].nonzero()[1]\n",
        "    tfidf_scores = zip(feature_index, [tfidf[doc_index, x] for x in feature_index])\n",
        "    for term, score in [(tokens[i], score) for (i, score) in tfidf_scores]:\n",
        "        print(\"{}: {}\".format(term, score))\n",
        "    print(\"\\n\")"
      ],
      "metadata": {
        "colab": {
          "base_uri": "https://localhost:8080/"
        },
        "id": "aMfNv8KIWZtL",
        "outputId": "49e75ab3-4b87-468d-84aa-534d69c6dc74"
      },
      "execution_count": 177,
      "outputs": [
        {
          "output_type": "stream",
          "name": "stdout",
          "text": [
            "TF-IDF dari dokumen ke- 1\n",
            "chatgpt: 0.1566576517929201\n",
            "bimbing: 0.987652965436103\n",
            "\n",
            "\n"
          ]
        }
      ]
    },
    {
      "cell_type": "code",
      "source": [
        "tfidf_df = pd.DataFrame(tfidf.toarray(), columns=tokens)\n",
        "print(tfidf_df)\n",
        "\n",
        "# newFilename='preprocessing-sudah.xlsx'\n",
        "# data.to_excel('/content/drive/MyDrive/Skripsi/Database baru/'+filename, index=False, encoding='utf-8')\n",
        "tfidf_df.to_excel('tf-idf.xlsx')"
      ],
      "metadata": {
        "id": "K12CBQhD_uG5"
      },
      "execution_count": null,
      "outputs": []
    },
    {
      "cell_type": "code",
      "source": [
        "X = text_bow.toarray()\n",
        "Y=newData['label']"
      ],
      "metadata": {
        "id": "08er5US-_uWn"
      },
      "execution_count": 126,
      "outputs": []
    },
    {
      "cell_type": "code",
      "source": [
        "# K-Fold Cross Validation dengan 10 fold\n",
        "kfold = KFold(n_splits=3, shuffle=True, random_state=1)\n"
      ],
      "metadata": {
        "id": "RCeFDOCCY6YC"
      },
      "execution_count": 226,
      "outputs": []
    },
    {
      "cell_type": "code",
      "source": [
        "x_train, x_test, y_train, y_test = train_test_split(X, Y,test_size=0.2, random_state=35)\n",
        "# train model Naive Bayes\n",
        "model = MultinomialNB().fit(x_train,y_train)\n",
        "# menggunakan kfold\n",
        "scores = cross_val_score(model, x_train, y_train, cv=kfold,scoring='accuracy')\n",
        "\n",
        "model.fit(x_train, y_train)\n",
        "y_pred = nb.predict(x_train)\n",
        "# print('Accuracy: %.3f%% (%.3f)' % (np.mean(scores)*100, np.std(scores)))\n"
      ],
      "metadata": {
        "colab": {
          "base_uri": "https://localhost:8080/"
        },
        "id": "1d1zkkGSmxbW",
        "outputId": "e74ff34c-27d7-4762-a5f8-2e7baaca8933"
      },
      "execution_count": 227,
      "outputs": [
        {
          "output_type": "stream",
          "name": "stdout",
          "text": [
            "Akurasi: 0.6048780487804878\n",
            "Presisi: 0.5442115984352748\n",
            "Recall: 0.6048780487804878\n",
            "F1-score: 0.5609812413682136\n"
          ]
        }
      ]
    },
    {
      "cell_type": "code",
      "source": [
        "x_train, x_test, y_train, y_test = train_test_split(X, Y,test_size=0.2, random_state=35)\n",
        "# train model Naive Bayes\n",
        "model = MultinomialNB().fit(x_train,y_train)\n",
        "# menggunakan kfold\n",
        "scores = cross_val_score(model, x_train, y_train, cv=kfold,scoring='accuracy')\n",
        "# membuat prediksi untuk data train dan data test\n",
        "train_prediction = model.predict(x_train)\n",
        "test_prediction = model.predict(x_test)\n",
        "nbc_report=classification_report(y_test,test_prediction)\n",
        "print(nbc_report)\n",
        "\n",
        "score1 = metrics.accuracy_score(y_test, test_prediction)\n",
        "\n",
        "print('Accuracy: %.3f%% (%.3f)' % (np.mean(scores)*100, np.std(scores)))\n",
        "print(\"accuracy:   %0.3f\" % score1)\n",
        "columns = ['negatif','netral','positif']\n",
        "confm = confusion_matrix(y_test, test_prediction)\n",
        "# disp = ConfusionMatrixDisplay(confusion_matrix=confm,  display_labels=clf.classes_)\n",
        "# df_cm = DataFrame(confm, index=columns, columns=columns)\n",
        "ax = sn.heatmap(confm, cmap='Greens', annot=True)\n",
        "\n",
        "# ax.set_title('Confusion matrix')\n",
        "# ax.set_xlabel('Label prediksi')\n",
        "# ax.set_ylabel('Label sebenarnya')"
      ],
      "metadata": {
        "colab": {
          "base_uri": "https://localhost:8080/",
          "height": 621
        },
        "id": "oDi3h80p-ZGQ",
        "outputId": "f3edb79c-3119-4dcb-9309-557ab24c46c7"
      },
      "execution_count": 229,
      "outputs": [
        {
          "output_type": "stream",
          "name": "stdout",
          "text": [
            "              precision    recall  f1-score   support\n",
            "\n",
            "     negatif       0.65      0.61      0.63        70\n",
            "      netral       0.19      0.07      0.10        44\n",
            "     positif       0.63      0.86      0.73        91\n",
            "\n",
            "    accuracy                           0.60       205\n",
            "   macro avg       0.49      0.51      0.49       205\n",
            "weighted avg       0.54      0.60      0.56       205\n",
            "\n",
            "accuracy:   0.605\n"
          ]
        },
        {
          "output_type": "display_data",
          "data": {
            "text/plain": [
              "<Figure size 640x480 with 2 Axes>"
            ],
            "image/png": "[encoded data removed]"
          },
          "metadata": {}
        }
      ]
    },
    {
      "cell_type": "code",
      "source": [
        "# for i in range(1, 21):\n",
        "knn = KNeighborsClassifier(n_neighbors=4)\n",
        "\n",
        "      # # melatih model KNN dengan data training\n",
        "knn.fit(x_train, y_train)\n",
        "y_pred = knn.predict(x_test)\n",
        "  # x_pred=knn.predict(x_train)\n",
        "knn_report=classification_report(y_test,y_pred)\n",
        "print(knn_report)\n",
        "  #     # # menghitung performa model pada data testing\n",
        "acc =  metrics.accuracy_score(y_test, y_pred)\n",
        "print(\" accuracy:   %0.3f\" % acc)"
      ],
      "metadata": {
        "colab": {
          "base_uri": "https://localhost:8080/"
        },
        "id": "R7MPOabnzqxV",
        "outputId": "0b725899-aa09-46b1-ee05-c2114daa2d9e"
      },
      "execution_count": 160,
      "outputs": [
        {
          "output_type": "stream",
          "name": "stdout",
          "text": [
            "              precision    recall  f1-score   support\n",
            "\n",
            "     negatif       0.72      0.43      0.54        68\n",
            "      netral       0.29      0.73      0.42        37\n",
            "     positif       0.81      0.59      0.68       100\n",
            "\n",
            "    accuracy                           0.56       205\n",
            "   macro avg       0.61      0.58      0.55       205\n",
            "weighted avg       0.69      0.56      0.59       205\n",
            "\n",
            " accuracy:   0.561\n"
          ]
        }
      ]
    }
  ]
}