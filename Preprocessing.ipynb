{
  "nbformat": 4,
  "nbformat_minor": 0,
  "metadata": {
    "colab": {
      "provenance": [],
      "mount_file_id": "1xuz_xCnCGnpff8IAddhUtO73CJJ6SlGZ",
      "authorship_tag": "ABX9TyMAJITxlKX7aO9em9RmPhF3",
      "include_colab_link": true
    },
    "kernelspec": {
      "name": "python3",
      "display_name": "Python 3"
    },
    "language_info": {
      "name": "python"
    }
  },
  "cells": [
    {
      "cell_type": "markdown",
      "metadata": {
        "id": "view-in-github",
        "colab_type": "text"
      },
      "source": [
        "<a href=\"https://colab.research.google.com/github/maharani032/sentimen/blob/main/Preprocessing.ipynb\" target=\"_parent\"><img src=\"https://colab.research.google.com/assets/colab-badge.svg\" alt=\"Open In Colab\"/></a>"
      ]
    },
    {
      "cell_type": "code",
      "execution_count": null,
      "metadata": {
        "id": "1oA18NNSsXKz"
      },
      "outputs": [],
      "source": [
        "!pip install sastrawi\n",
        "!pip install preprocessor"
      ]
    },
    {
      "cell_type": "code",
      "source": [
        "import pandas as pd\n",
        "import preprocessor as p\n",
        "from textblob import TextBlob\n",
        "from nltk.stem import PorterStemmer \n",
        "from nltk.tokenize import word_tokenize\n",
        "import numpy as np\n",
        "import re\n",
        "from Sastrawi.StopWordRemover.StopWordRemoverFactory import StopWordRemoverFactory, StopWordRemover, ArrayDictionary\n",
        "import nltk\n",
        "nltk.download('stopwords')\n",
        "\n",
        "from nltk.corpus import stopwords\n",
        "from Sastrawi.Stemmer.StemmerFactory import StemmerFactory\n",
        "# import tokenize\n",
        "from nltk.tokenize import TweetTokenizer"
      ],
      "metadata": {
        "colab": {
          "base_uri": "https://localhost:8080/"
        },
        "id": "znqgAnRhsjgN",
        "outputId": "ee2abed3-1c10-4fb2-dd17-1daf4953b870"
      },
      "execution_count": 14,
      "outputs": [
        {
          "output_type": "stream",
          "name": "stderr",
          "text": [
            "[nltk_data] Downloading package stopwords to /root/nltk_data...\n",
            "[nltk_data]   Package stopwords is already up-to-date!\n"
          ]
        }
      ]
    },
    {
      "cell_type": "code",
      "source": [
        "data = pd.read_excel(\"/content/drive/MyDrive/Skripsi/Database baru/Data tweet CHATGPT dan label v2.xlsx\")\n",
        "data.info()"
      ],
      "metadata": {
        "id": "eY0v8T1SssG-"
      },
      "execution_count": null,
      "outputs": []
    },
    {
      "cell_type": "code",
      "source": [
        "# remove mention\n",
        "def remove_mention(tweet,pattern_regex):\n",
        "    r=re.findall(pattern_regex,tweet)\n",
        "    for i in r:\n",
        "        tweet=re.sub(i,\"\",tweet)\n",
        "    return tweet"
      ],
      "metadata": {
        "id": "VQbfAv3Ks7eN"
      },
      "execution_count": 4,
      "outputs": []
    },
    {
      "cell_type": "code",
      "source": [
        "def remove_http(tweet):\n",
        "    tweet=\" \".join(re.sub(\"(@[A-Za-z0-9]+)|([^0-9A-Za-z \\t])|(\\w+:\\/\\/\\S+)\",\" \",tweet).split())\n",
        "    return tweet"
      ],
      "metadata": {
        "id": "KbruZ8Qys8Ut"
      },
      "execution_count": 5,
      "outputs": []
    },
    {
      "cell_type": "code",
      "source": [
        "def removeHastag(tweet):\n",
        "#     hastag dolar sign\n",
        "    tweet=re.sub(r'\\$\\w*','',tweet)\n",
        "#     retweet lama\n",
        "    tweet=re.sub(r'^RT[\\s]+','',tweet)\n",
        "#     hastag\n",
        "    tweet=re.sub(r'#', '',tweet)\n",
        "#     hapus angka\n",
        "    tweet=re.sub('[0-9]+','',tweet)\n",
        "    return tweet"
      ],
      "metadata": {
        "id": "KOYz7RkttAnB"
      },
      "execution_count": 6,
      "outputs": []
    },
    {
      "cell_type": "code",
      "source": [
        "def case_folding(tweet):\n",
        "    return tweet.casefold()\n",
        "data['remove_mention']=np.vectorize(remove_mention)(data['tweet'],\" *RT* | *@[\\w]*\")\n",
        "data['remove_http']=data['remove_mention'].apply(lambda x:remove_http(x))\n",
        "data['remove_hastag']=data['remove_http'].apply(lambda x:removeHastag(x))\n",
        "data['case_folding']=data['remove_hastag'].apply(lambda x:case_folding(x))\n",
        "data.drop_duplicates(subset='case_folding',keep='first',inplace=True)\n",
        "data.head(5)"
      ],
      "metadata": {
        "id": "wf4lOaGstGPG"
      },
      "execution_count": null,
      "outputs": []
    },
    {
      "cell_type": "code",
      "source": [
        "stopwords_indonesia=stopwords.words('indonesian')\n",
        "# import sastrawi"
      ],
      "metadata": {
        "id": "Ihd4gpW-tiPA"
      },
      "execution_count": null,
      "outputs": []
    },
    {
      "cell_type": "code",
      "source": [
        "more_stopword = [\n",
        "    'yg','dgn','kan','huh','bruh','xd','xf','hahaha','nya','wkwkwkkwkwk','akwkaskaksawska','wkwkw','wkwkkwwkk'\n",
        "    'kok','kyk','dong','donk','yah','tuh','si','siii','wkwk','wkwkwk','ini','tp','utk','sj','pd','gw','gua','gwe',\n",
        "    'wow','wowwwwwah','icymi','ni','coy','coii','isenkisenk','dg','pdhl','aja','tadi','krn','tak',\n",
        "    'aja','sbb','kuy','se','skrg','yep','aja','as','yaa','jadinya','aja','coba','tibatiba','shit','knp','jdi','dmn','kyk'\n",
        "    'sih','bang','oke','nah','bgt','km','ttg','dlm','aaa','kang','hehe','wes','you','doang','wkkw','ong','sm','he','yeee'\n",
        "    ,'emg','kak','gan','woy','dm','hi','kakk','min','di','noh','gais','lah','xfxf','nak','bro','x','ahhh','gasss','hmmm','sat','set','yukkkkk'\n",
        "    ,'smh','eh','ni','laaah',' aihihi','fafifu','akwkaskaksawska ','xixi','kah','tbtb','bg','jg','pas','w','jga','cm','hiks','mennn','sii','sy','aku',\n",
        "    ]"
      ],
      "metadata": {
        "id": "aRqgk5iItrFe"
      },
      "execution_count": 10,
      "outputs": []
    },
    {
      "cell_type": "code",
      "source": [
        "stop_factory = StopWordRemoverFactory().get_stop_words()\n",
        "stopword=stop_factory+more_stopword+stopwords_indonesia\n",
        "dictionary=ArrayDictionary(stopword)\n",
        "str=StopWordRemover(dictionary)\n",
        "factory=StemmerFactory()\n",
        "stemmer=factory.create_stemmer()"
      ],
      "metadata": {
        "id": "Z68ivmZCt4HZ"
      },
      "execution_count": 16,
      "outputs": []
    },
    {
      "cell_type": "code",
      "source": [
        "def clean_tweets(tweet):\n",
        "#     tokenize tweets\n",
        "    tokenizer=TweetTokenizer(preserve_case=False,strip_handles=True,reduce_len=True)\n",
        "    tweet_token=tokenizer.tokenize(tweet)\n",
        "    \n",
        "    tweet_clean=[]\n",
        "    for word in tweet_token:\n",
        "        if(word not in stopword):\n",
        "            stem_word=stemmer.stem(word)\n",
        "            tweet_clean.append(stem_word)\n",
        "    return tweet_clean"
      ],
      "metadata": {
        "id": "5al-YWaPt_5h"
      },
      "execution_count": 17,
      "outputs": []
    },
    {
      "cell_type": "code",
      "source": [
        "def tweet(tweet):\n",
        "    return \" \".join(tweet)"
      ],
      "metadata": {
        "id": "2eNg1pOluyWi"
      },
      "execution_count": 18,
      "outputs": []
    },
    {
      "cell_type": "code",
      "source": [
        "data['clean_tweet']=data['case_folding'].apply(lambda x:clean_tweets(x))\n",
        "data['clean tweet']=data['clean_tweet'].apply(lambda x:tweet(x))\n"
      ],
      "metadata": {
        "id": "uBo2rvezu0e3"
      },
      "execution_count": 19,
      "outputs": []
    },
    {
      "cell_type": "code",
      "source": [
        "newData=pd.DataFrame()\n",
        "newData['date']=data['date']\n",
        "newData['username']=data['username']\n",
        "newData['tweet']=data['tweet']\n",
        "newData['clean tweet']=data['clean tweet']\n",
        "newData['label']=data['label']\n",
        "filename='processing-lengkap.xlsx'\n",
        "newFilename='preprocessing-sudah.xlsx'\n",
        "data.to_excel('/content/drive/MyDrive/Skripsi/Database baru/'+filename, index=False, encoding='utf-8')\n",
        "newData.to_excel('/content/drive/MyDrive/Skripsi/Database baru/'+newFilename, index=False, encoding='utf-8')"
      ],
      "metadata": {
        "colab": {
          "base_uri": "https://localhost:8080/"
        },
        "id": "Fhvk8wrLu7Ik",
        "outputId": "20558794-b5fa-40c8-e420-4000246c06af"
      },
      "execution_count": 20,
      "outputs": [
        {
          "output_type": "stream",
          "name": "stderr",
          "text": [
            "/usr/local/lib/python3.9/dist-packages/pandas/util/_decorators.py:211: FutureWarning: the 'encoding' keyword is deprecated and will be removed in a future version. Please take steps to stop the use of 'encoding'\n",
            "  return func(*args, **kwargs)\n"
          ]
        }
      ]
    }
  ]
}