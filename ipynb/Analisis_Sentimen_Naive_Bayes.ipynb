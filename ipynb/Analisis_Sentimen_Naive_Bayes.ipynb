{
  "nbformat": 4,
  "nbformat_minor": 0,
  "metadata": {
    "colab": {
      "provenance": [],
      "mount_file_id": "1Rs_aBMgByxOdFwEpTwxFxiwn0Wp3BgWr",
      "authorship_tag": "ABX9TyN1tFCzDWptNt5agsPUAVRJ"
    },
    "kernelspec": {
      "name": "python3",
      "display_name": "Python 3"
    },
    "language_info": {
      "name": "python"
    }
  },
  "cells": [
    {
      "cell_type": "code",
      "execution_count": 58,
      "metadata": {
        "id": "0RcclPzxyVvB"
      },
      "outputs": [],
      "source": [
        "import pandas as pd\n",
        "import numpy as np\n",
        "import re\n",
        "from sklearn.feature_extraction.text import CountVectorizer,TfidfTransformer\n",
        "from sklearn.model_selection import train_test_split\n",
        "from sklearn.naive_bayes import MultinomialNB\n",
        "from sklearn import metrics\n",
        "from sklearn.neighbors import KNeighborsClassifier\n",
        "from sklearn.metrics import confusion_matrix, classification_report\n",
        "import seaborn as sn\n",
        "from sklearn.model_selection import KFold, cross_val_score\n",
        "from sklearn.metrics import accuracy_score, precision_score, recall_score, f1_score"
      ]
    },
    {
      "cell_type": "code",
      "source": [
        "newData= pd.read_excel(\"/content/drive/MyDrive/Skripsi/Database baru/preprocessing-sudah.xlsx\")\n",
        "newData.info()"
      ],
      "metadata": {
        "id": "-PJnklSmyZ5_"
      },
      "execution_count": null,
      "outputs": []
    },
    {
      "cell_type": "code",
      "source": [
        "X_train, X_test, y_train, y_test = train_test_split(newData['clean tweet'], newData['label'], test_size=0.2, random_state=35)\n",
        "\n"
      ],
      "metadata": {
        "id": "zqHYxgAOygmb"
      },
      "execution_count": 60,
      "outputs": []
    },
    {
      "cell_type": "code",
      "source": [
        "# TF-IDF\n",
        "cv = CountVectorizer()\n",
        "\n",
        "X_train_counts = cv.fit_transform(X_train)\n",
        "\n",
        "tfidf_transformer = TfidfTransformer()\n",
        "X_train_tfidf = tfidf_transformer.fit_transform(X_train_counts)\n",
        "# # Test the classifier on the testing set\n",
        "X_test_counts = cv.transform(X_test)\n",
        "X_test_tfidf = tfidf_transformer.transform(X_test_counts)\n",
        "\n",
        "# # Evaluate the performance of the model using K-Fold Cross Validation\n",
        "kf = KFold(n_splits=9, shuffle=True, random_state=35)"
      ],
      "metadata": {
        "id": "VwBlFbtqy2sM"
      },
      "execution_count": 62,
      "outputs": []
    },
    {
      "cell_type": "code",
      "source": [
        "modelNB = MultinomialNB().fit(X_train_tfidf, y_train)\n",
        "y_pred = modelNB.predict(X_test_tfidf)\n",
        "\n",
        "accuracy_scores = cross_val_score(modelNB, X_train_tfidf, y_train, cv=kf, scoring='accuracy')\n",
        "precision_scores = cross_val_score(modelNB, X_train_tfidf, y_train, cv=kf, scoring='precision_weighted')\n",
        "recall_scores = cross_val_score(modelNB, X_train_tfidf, y_train, cv=kf, scoring='recall_weighted')\n",
        "\n",
        "print('Accuracy:', accuracy_scores.mean())\n",
        "print('Precision:', precision_scores.mean())\n",
        "print('Recall:', recall_scores.mean())\n",
        "\n",
        "# # Evaluate the performance of the model on the testing set\n",
        "print('Accuracy:', accuracy_score(y_test, y_pred))\n",
        "print('Precision:', precision_score(y_test, y_pred, average='weighted'))\n",
        "print('Recall:', recall_score(y_test, y_pred, average='weighted'))"
      ],
      "metadata": {
        "colab": {
          "base_uri": "https://localhost:8080/"
        },
        "id": "IhpD82Yn6pUo",
        "outputId": "7ea2247d-a5a5-4b6e-e4c0-7dc80dcbfbad"
      },
      "execution_count": 63,
      "outputs": [
        {
          "output_type": "stream",
          "name": "stdout",
          "text": [
            "Accuracy: 0.6095363749858131\n",
            "Precision: 0.5479172535568968\n",
            "Recall: 0.6095363749858131\n",
            "Accuracy: 0.63\n",
            "Precision: 0.50428125\n",
            "Recall: 0.63\n"
          ]
        },
        {
          "output_type": "stream",
          "name": "stderr",
          "text": [
            "/usr/local/lib/python3.9/dist-packages/sklearn/metrics/_classification.py:1344: UndefinedMetricWarning: Precision is ill-defined and being set to 0.0 in labels with no predicted samples. Use `zero_division` parameter to control this behavior.\n",
            "  _warn_prf(average, modifier, msg_start, len(result))\n",
            "/usr/local/lib/python3.9/dist-packages/sklearn/metrics/_classification.py:1344: UndefinedMetricWarning: Precision is ill-defined and being set to 0.0 in labels with no predicted samples. Use `zero_division` parameter to control this behavior.\n",
            "  _warn_prf(average, modifier, msg_start, len(result))\n",
            "/usr/local/lib/python3.9/dist-packages/sklearn/metrics/_classification.py:1344: UndefinedMetricWarning: Precision is ill-defined and being set to 0.0 in labels with no predicted samples. Use `zero_division` parameter to control this behavior.\n",
            "  _warn_prf(average, modifier, msg_start, len(result))\n",
            "/usr/local/lib/python3.9/dist-packages/sklearn/metrics/_classification.py:1344: UndefinedMetricWarning: Precision is ill-defined and being set to 0.0 in labels with no predicted samples. Use `zero_division` parameter to control this behavior.\n",
            "  _warn_prf(average, modifier, msg_start, len(result))\n",
            "/usr/local/lib/python3.9/dist-packages/sklearn/metrics/_classification.py:1344: UndefinedMetricWarning: Precision is ill-defined and being set to 0.0 in labels with no predicted samples. Use `zero_division` parameter to control this behavior.\n",
            "  _warn_prf(average, modifier, msg_start, len(result))\n",
            "/usr/local/lib/python3.9/dist-packages/sklearn/metrics/_classification.py:1344: UndefinedMetricWarning: Precision is ill-defined and being set to 0.0 in labels with no predicted samples. Use `zero_division` parameter to control this behavior.\n",
            "  _warn_prf(average, modifier, msg_start, len(result))\n",
            "/usr/local/lib/python3.9/dist-packages/sklearn/metrics/_classification.py:1344: UndefinedMetricWarning: Precision is ill-defined and being set to 0.0 in labels with no predicted samples. Use `zero_division` parameter to control this behavior.\n",
            "  _warn_prf(average, modifier, msg_start, len(result))\n",
            "/usr/local/lib/python3.9/dist-packages/sklearn/metrics/_classification.py:1344: UndefinedMetricWarning: Precision is ill-defined and being set to 0.0 in labels with no predicted samples. Use `zero_division` parameter to control this behavior.\n",
            "  _warn_prf(average, modifier, msg_start, len(result))\n",
            "/usr/local/lib/python3.9/dist-packages/sklearn/metrics/_classification.py:1344: UndefinedMetricWarning: Precision is ill-defined and being set to 0.0 in labels with no predicted samples. Use `zero_division` parameter to control this behavior.\n",
            "  _warn_prf(average, modifier, msg_start, len(result))\n"
          ]
        }
      ]
    },
    {
      "cell_type": "code",
      "source": [
        "# KNN\n",
        "knn = KNeighborsClassifier(n_neighbors=11)\n",
        "modelKKN=knn.fit(X_train_tfidf, y_train)\n",
        "knn_pred = knn.predict(X_test_tfidf)\n",
        "\n",
        "accuracy_scores_knn = cross_val_score(modelKKN, X_train_tfidf, y_train, cv=kf, scoring='accuracy')\n",
        "precision_scores_knn = cross_val_score(modelKKN, X_train_tfidf, y_train, cv=kf, scoring='precision_weighted')\n",
        "recall_scores_knn = cross_val_score(modelKKN, X_train_tfidf, y_train, cv=kf, scoring='recall_weighted')\n",
        "\n",
        "print('Accuracy:', accuracy_scores_knn.mean())\n",
        "print('Precision:', precision_scores_knn.mean())\n",
        "print('Recall:', recall_scores_knn.mean())\n",
        "\n",
        "print('Accuracy:', accuracy_score(y_test, knn_pred))\n",
        "print('Precision:', precision_score(y_test, knn_pred, average='weighted'))\n",
        "print('Recall:', recall_score(y_test, knn_pred, average='weighted'))"
      ],
      "metadata": {
        "colab": {
          "base_uri": "https://localhost:8080/"
        },
        "id": "e9mYrVCszIxS",
        "outputId": "17c04cd0-38ce-451d-da79-cb5777f4ec99"
      },
      "execution_count": 78,
      "outputs": [
        {
          "output_type": "stream",
          "name": "stdout",
          "text": [
            "Accuracy: 0.6168283963227783\n",
            "Precision: 0.6057121915433468\n",
            "Recall: 0.6168283963227783\n",
            "Accuracy: 0.63\n",
            "Precision: 0.5943817411402157\n",
            "Recall: 0.63\n"
          ]
        }
      ]
    }
  ]
}