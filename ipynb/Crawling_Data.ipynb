{
  "nbformat": 4,
  "nbformat_minor": 0,
  "metadata": {
    "colab": {
      "provenance": [],
      "mount_file_id": "168zHvz3naFFRvGKne86TP6JI4trMIZbo",
      "authorship_tag": "ABX9TyMx4/fH4QuZXlblvD5eTg+C",
      "include_colab_link": true
    },
    "kernelspec": {
      "name": "python3",
      "display_name": "Python 3"
    },
    "language_info": {
      "name": "python"
    }
  },
  "cells": [
    {
      "cell_type": "markdown",
      "metadata": {
        "id": "view-in-github",
        "colab_type": "text"
      },
      "source": [
        "<a href=\"https://colab.research.google.com/github/maharani032/sentimen/blob/main/Crawling_Data.ipynb\" target=\"_parent\"><img src=\"https://colab.research.google.com/assets/colab-badge.svg\" alt=\"Open In Colab\"/></a>"
      ]
    },
    {
      "cell_type": "markdown",
      "source": [
        "### Crawling Data"
      ],
      "metadata": {
        "id": "kds0iL4SFQb6"
      }
    },
    {
      "cell_type": "markdown",
      "source": [
        "Import library yang dibutuhkan"
      ],
      "metadata": {
        "id": "EW8089s1Fx9a"
      }
    },
    {
      "cell_type": "code",
      "source": [
        "import tweepy\n",
        "    "
      ],
      "metadata": {
        "id": "Wt6rOP7BF7Ae"
      },
      "execution_count": null,
      "outputs": []
    },
    {
      "cell_type": "markdown",
      "source": [],
      "metadata": {
        "id": "NHR5tCOk93pi"
      }
    },
    {
      "cell_type": "code",
      "source": [
        "from tweepy import OAuthHandler\n",
        "import pandas as pd\n",
        "from datetime import timedelta, datetime\n"
      ],
      "metadata": {
        "id": "3hNC1ai7GGbX"
      },
      "execution_count": null,
      "outputs": []
    },
    {
      "cell_type": "code",
      "source": [
        "\n",
        "\n",
        "auth = OAuthHandler(consumer_key, consumer_secret)\n",
        "auth.set_access_token(access_token, access_token_secret)\n",
        "api = tweepy.API(auth, wait_on_rate_limit=True)\n",
        "\n",
        "print(api)"
      ],
      "metadata": {
        "id": "25oFjJVLGh7_",
        "colab": {
          "base_uri": "https://localhost:8080/"
        },
        "outputId": "646f688a-c19e-4e6c-f171-47184a4c954b"
      },
      "execution_count": null,
      "outputs": [
        {
          "output_type": "stream",
          "name": "stdout",
          "text": [
            "<tweepy.api.API object at 0x7f63aec19880>\n"
          ]
        }
      ]
    },
    {
      "cell_type": "code",
      "source": [
        "# query_pencarian = \"chatgpt\"\n",
        "# tweets = tweepy.Cursor(api.search, q=query_pencarian, lang=\"id\", result_type=\"mixed\", tweet_mode=\"extended\"\n",
        "# ).items(50)\n",
        "def scraptweets(search_words, date_since):\n",
        "\n",
        "    db_tweets = pd.DataFrame(columns=['username', 'tweetcreatedts', 'text'])\n",
        "\n",
        "    tweets = tweepy.Cursor(\n",
        "                    api.search_tweets, q=search_words, lang=\"id\", \n",
        "                    tweet_mode='extended').items(2000)\n",
        "\n",
        "    tweet_list = [tweet for tweet in tweets]\n",
        "\n",
        "    for tweet in tweet_list:\n",
        "        username = tweet.user.screen_name\n",
        "        tweetcreatedts = tweet.created_at\n",
        "\n",
        "        try:\n",
        "            text = tweet.retweeted_status.full_text\n",
        "        except AttributeError:\n",
        "            text = tweet.full_text\n",
        "\n",
        "        ith_tweet = [username, tweetcreatedts, text]\n",
        "\n",
        "        db_tweets.loc[len(db_tweets)] = ith_tweet\n",
        "    \n",
        "    print('Proses Scrapping Selesai Dengan Jumlah Data', len(db_tweets))\n",
        "    filename = '18-04-2023.csv'\n",
        "    db_tweets.to_csv('/content/drive/MyDrive/Skripsi/Database baru/'+filename, index=False)\n",
        "\n",
        "today = datetime.today().strftime(\"%Y-%m-%d\")\n",
        "last_week = datetime.today() - timedelta(7)\n",
        "last_week = last_week.strftime(\"%Y-%m-%d\")\n",
        "\n",
        "search_words = \"chatgpt -filter:retweets\"\n",
        "date_since = last_week\n",
        "date_until = today\n",
        "\n",
        "scraptweets(search_words, date_since)"
      ],
      "metadata": {
        "colab": {
          "base_uri": "https://localhost:8080/"
        },
        "id": "C1Uf5QA6kJZL",
        "outputId": "c6845747-4b4f-4430-fea9-a8a5c8bd9840"
      },
      "execution_count": null,
      "outputs": [
        {
          "output_type": "stream",
          "name": "stderr",
          "text": [
            "WARNING:tweepy.api:Unexpected parameter: since\n",
            "WARNING:tweepy.api:Unexpected parameter: since\n",
            "WARNING:tweepy.api:Unexpected parameter: since\n",
            "WARNING:tweepy.api:Unexpected parameter: since\n",
            "WARNING:tweepy.api:Unexpected parameter: since\n",
            "WARNING:tweepy.api:Unexpected parameter: since\n",
            "WARNING:tweepy.api:Unexpected parameter: since\n",
            "WARNING:tweepy.api:Unexpected parameter: since\n",
            "WARNING:tweepy.api:Unexpected parameter: since\n",
            "WARNING:tweepy.api:Unexpected parameter: since\n",
            "WARNING:tweepy.api:Unexpected parameter: since\n",
            "WARNING:tweepy.api:Unexpected parameter: since\n",
            "WARNING:tweepy.api:Unexpected parameter: since\n",
            "WARNING:tweepy.api:Unexpected parameter: since\n",
            "WARNING:tweepy.api:Unexpected parameter: since\n",
            "WARNING:tweepy.api:Unexpected parameter: since\n",
            "WARNING:tweepy.api:Unexpected parameter: since\n",
            "WARNING:tweepy.api:Unexpected parameter: since\n",
            "WARNING:tweepy.api:Unexpected parameter: since\n",
            "WARNING:tweepy.api:Unexpected parameter: since\n",
            "WARNING:tweepy.api:Unexpected parameter: since\n",
            "WARNING:tweepy.api:Unexpected parameter: since\n",
            "WARNING:tweepy.api:Unexpected parameter: since\n",
            "WARNING:tweepy.api:Unexpected parameter: since\n",
            "WARNING:tweepy.api:Unexpected parameter: since\n",
            "WARNING:tweepy.api:Unexpected parameter: since\n",
            "WARNING:tweepy.api:Unexpected parameter: since\n",
            "WARNING:tweepy.api:Unexpected parameter: since\n",
            "WARNING:tweepy.api:Unexpected parameter: since\n",
            "WARNING:tweepy.api:Unexpected parameter: since\n",
            "WARNING:tweepy.api:Unexpected parameter: since\n",
            "WARNING:tweepy.api:Unexpected parameter: since\n",
            "WARNING:tweepy.api:Unexpected parameter: since\n",
            "WARNING:tweepy.api:Unexpected parameter: since\n",
            "WARNING:tweepy.api:Unexpected parameter: since\n",
            "WARNING:tweepy.api:Unexpected parameter: since\n",
            "WARNING:tweepy.api:Unexpected parameter: since\n",
            "WARNING:tweepy.api:Unexpected parameter: since\n",
            "WARNING:tweepy.api:Unexpected parameter: since\n",
            "WARNING:tweepy.api:Unexpected parameter: since\n",
            "WARNING:tweepy.api:Unexpected parameter: since\n",
            "WARNING:tweepy.api:Unexpected parameter: since\n",
            "WARNING:tweepy.api:Unexpected parameter: since\n",
            "WARNING:tweepy.api:Unexpected parameter: since\n",
            "WARNING:tweepy.api:Unexpected parameter: since\n",
            "WARNING:tweepy.api:Unexpected parameter: since\n",
            "WARNING:tweepy.api:Unexpected parameter: since\n",
            "WARNING:tweepy.api:Unexpected parameter: since\n",
            "WARNING:tweepy.api:Unexpected parameter: since\n",
            "WARNING:tweepy.api:Unexpected parameter: since\n",
            "WARNING:tweepy.api:Unexpected parameter: since\n",
            "WARNING:tweepy.api:Unexpected parameter: since\n",
            "WARNING:tweepy.api:Unexpected parameter: since\n",
            "WARNING:tweepy.api:Unexpected parameter: since\n",
            "WARNING:tweepy.api:Unexpected parameter: since\n",
            "WARNING:tweepy.api:Unexpected parameter: since\n",
            "WARNING:tweepy.api:Unexpected parameter: since\n",
            "WARNING:tweepy.api:Unexpected parameter: since\n",
            "WARNING:tweepy.api:Unexpected parameter: since\n",
            "WARNING:tweepy.api:Unexpected parameter: since\n",
            "WARNING:tweepy.api:Unexpected parameter: since\n",
            "WARNING:tweepy.api:Unexpected parameter: since\n",
            "WARNING:tweepy.api:Unexpected parameter: since\n",
            "WARNING:tweepy.api:Unexpected parameter: since\n",
            "WARNING:tweepy.api:Unexpected parameter: since\n",
            "WARNING:tweepy.api:Unexpected parameter: since\n",
            "WARNING:tweepy.api:Unexpected parameter: since\n",
            "WARNING:tweepy.api:Unexpected parameter: since\n",
            "WARNING:tweepy.api:Unexpected parameter: since\n",
            "WARNING:tweepy.api:Unexpected parameter: since\n",
            "WARNING:tweepy.api:Unexpected parameter: since\n",
            "WARNING:tweepy.api:Unexpected parameter: since\n",
            "WARNING:tweepy.api:Unexpected parameter: since\n",
            "WARNING:tweepy.api:Unexpected parameter: since\n",
            "WARNING:tweepy.api:Unexpected parameter: since\n",
            "WARNING:tweepy.api:Unexpected parameter: since\n",
            "WARNING:tweepy.api:Unexpected parameter: since\n",
            "WARNING:tweepy.api:Unexpected parameter: since\n",
            "WARNING:tweepy.api:Unexpected parameter: since\n",
            "WARNING:tweepy.api:Unexpected parameter: since\n",
            "WARNING:tweepy.api:Unexpected parameter: since\n",
            "WARNING:tweepy.api:Unexpected parameter: since\n",
            "WARNING:tweepy.api:Unexpected parameter: since\n",
            "WARNING:tweepy.api:Unexpected parameter: since\n",
            "WARNING:tweepy.api:Unexpected parameter: since\n",
            "WARNING:tweepy.api:Unexpected parameter: since\n",
            "WARNING:tweepy.api:Unexpected parameter: since\n",
            "WARNING:tweepy.api:Unexpected parameter: since\n",
            "WARNING:tweepy.api:Unexpected parameter: since\n",
            "WARNING:tweepy.api:Unexpected parameter: since\n",
            "WARNING:tweepy.api:Unexpected parameter: since\n",
            "WARNING:tweepy.api:Unexpected parameter: since\n",
            "WARNING:tweepy.api:Unexpected parameter: since\n",
            "WARNING:tweepy.api:Unexpected parameter: since\n",
            "WARNING:tweepy.api:Unexpected parameter: since\n",
            "WARNING:tweepy.api:Unexpected parameter: since\n",
            "WARNING:tweepy.api:Unexpected parameter: since\n",
            "WARNING:tweepy.api:Unexpected parameter: since\n",
            "WARNING:tweepy.api:Unexpected parameter: since\n",
            "WARNING:tweepy.api:Unexpected parameter: since\n",
            "WARNING:tweepy.api:Unexpected parameter: since\n",
            "WARNING:tweepy.api:Unexpected parameter: since\n",
            "WARNING:tweepy.api:Unexpected parameter: since\n",
            "WARNING:tweepy.api:Unexpected parameter: since\n",
            "WARNING:tweepy.api:Unexpected parameter: since\n",
            "WARNING:tweepy.api:Unexpected parameter: since\n",
            "WARNING:tweepy.api:Unexpected parameter: since\n",
            "WARNING:tweepy.api:Unexpected parameter: since\n",
            "WARNING:tweepy.api:Unexpected parameter: since\n",
            "WARNING:tweepy.api:Unexpected parameter: since\n",
            "WARNING:tweepy.api:Unexpected parameter: since\n",
            "WARNING:tweepy.api:Unexpected parameter: since\n",
            "WARNING:tweepy.api:Unexpected parameter: since\n",
            "WARNING:tweepy.api:Unexpected parameter: since\n",
            "WARNING:tweepy.api:Unexpected parameter: since\n"
          ]
        },
        {
          "output_type": "stream",
          "name": "stdout",
          "text": [
            "Proses Scrapping Selesai Dengan Jumlah Data 1571\n"
          ]
        }
      ]
    },
    {
      "cell_type": "code",
      "source": [
        "def column_names():\n",
        "    return twint.output.panda.Tweets_df.columns\n",
        "def twint_to_pd(columns):\n",
        "    return twint.output.panda.Tweets_df[columns]\n",
        "data=twint_to_pd(['date','username','tweet'])"
      ],
      "metadata": {
        "id": "LpA3bB54GQfi"
      },
      "execution_count": null,
      "outputs": []
    }
  ]
}